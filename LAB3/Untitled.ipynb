{
 "cells": [
  {
   "cell_type": "markdown",
   "id": "178cafd1",
   "metadata": {},
   "source": [
    "# Лабораторная работа 3\n",
    "## Подготовка обучающей и тестовой выборки, кросс-валидация и подбор /гиперпараметров на примере метода ближайших соседей.\n",
    "\n",
    "\n",
    "## Цель лабораторной работы: изучение способов подготовки выборки и подбора гиперпараметров на примере метода ближайших соседей.\n",
    "\n",
    "Требования к отчету:\n",
    "Отчет по лабораторной работе должен содержать:\n",
    "\n",
    "* титульный лист;\n",
    "* описание задания;\n",
    "* текст программы;\n",
    "* экранные формы с примерами выполнения программы.\n",
    "## Задание:\n",
    "Выберите набор данных (датасет) для решения задачи классификации или регрессии.\n",
    "В случае необходимости проведите удаление или заполнение пропусков и кодирование категориальных признаков.\n",
    "С использованием метода train_test_split разделите выборку на обучающую и тестовую.\n",
    "Обучите модель ближайших соседей для произвольно заданного гиперпараметра K. Оцените качество модели с помощью подходящих для задачи метрик.\n",
    "Произведите подбор гиперпараметра K с использованием GridSearchCV и RandomizedSearchCV и кросс-валидации, оцените качество оптимальной модели. Используйте не менее двух стратегий кросс-валидации.\n",
    "Сравните метрики качества исходной и оптимальной моделей."
   ]
  },
  {
   "cell_type": "code",
   "execution_count": 17,
   "id": "18a97452",
   "metadata": {},
   "outputs": [],
   "source": [
    "import numpy as np\n",
    "import pandas as pd\n",
    "import seaborn as sns\n",
    "import matplotlib.ticker as ticker\n",
    "from sklearn.preprocessing import OrdinalEncoder\n",
    "from sklearn.preprocessing import OneHotEncoder\n",
    "import category_encoders as ce\n",
    "import matplotlib.pyplot as plt\n",
    "import matplotlib\n",
    "%matplotlib inline \n",
    "# sns.set(style=\"ticks\")"
   ]
  },
  {
   "cell_type": "code",
   "execution_count": 28,
   "id": "c680ae88",
   "metadata": {},
   "outputs": [],
   "source": [
    "df = pd.read_csv('./KNNDataset.csv', sep=',')"
   ]
  },
  {
   "cell_type": "code",
   "execution_count": 29,
   "id": "ef15df27",
   "metadata": {},
   "outputs": [],
   "source": [
    "#Удалим данный столбец поскольку он не имеет важности для обучения\n",
    "df.drop('Unnamed: 32', axis= 1 , inplace= True )"
   ]
  },
  {
   "cell_type": "code",
   "execution_count": 30,
   "id": "51a79564",
   "metadata": {},
   "outputs": [
    {
     "data": {
      "text/html": [
       "<div>\n",
       "<style scoped>\n",
       "    .dataframe tbody tr th:only-of-type {\n",
       "        vertical-align: middle;\n",
       "    }\n",
       "\n",
       "    .dataframe tbody tr th {\n",
       "        vertical-align: top;\n",
       "    }\n",
       "\n",
       "    .dataframe thead th {\n",
       "        text-align: right;\n",
       "    }\n",
       "</style>\n",
       "<table border=\"1\" class=\"dataframe\">\n",
       "  <thead>\n",
       "    <tr style=\"text-align: right;\">\n",
       "      <th></th>\n",
       "      <th>id</th>\n",
       "      <th>diagnosis</th>\n",
       "      <th>radius_mean</th>\n",
       "      <th>texture_mean</th>\n",
       "      <th>perimeter_mean</th>\n",
       "      <th>area_mean</th>\n",
       "      <th>smoothness_mean</th>\n",
       "      <th>compactness_mean</th>\n",
       "      <th>concavity_mean</th>\n",
       "      <th>concave points_mean</th>\n",
       "      <th>...</th>\n",
       "      <th>radius_worst</th>\n",
       "      <th>texture_worst</th>\n",
       "      <th>perimeter_worst</th>\n",
       "      <th>area_worst</th>\n",
       "      <th>smoothness_worst</th>\n",
       "      <th>compactness_worst</th>\n",
       "      <th>concavity_worst</th>\n",
       "      <th>concave points_worst</th>\n",
       "      <th>symmetry_worst</th>\n",
       "      <th>fractal_dimension_worst</th>\n",
       "    </tr>\n",
       "  </thead>\n",
       "  <tbody>\n",
       "    <tr>\n",
       "      <th>0</th>\n",
       "      <td>842302</td>\n",
       "      <td>M</td>\n",
       "      <td>17.99</td>\n",
       "      <td>10.38</td>\n",
       "      <td>122.80</td>\n",
       "      <td>1001.0</td>\n",
       "      <td>0.11840</td>\n",
       "      <td>0.27760</td>\n",
       "      <td>0.3001</td>\n",
       "      <td>0.14710</td>\n",
       "      <td>...</td>\n",
       "      <td>25.38</td>\n",
       "      <td>17.33</td>\n",
       "      <td>184.60</td>\n",
       "      <td>2019.0</td>\n",
       "      <td>0.1622</td>\n",
       "      <td>0.6656</td>\n",
       "      <td>0.7119</td>\n",
       "      <td>0.2654</td>\n",
       "      <td>0.4601</td>\n",
       "      <td>0.11890</td>\n",
       "    </tr>\n",
       "    <tr>\n",
       "      <th>1</th>\n",
       "      <td>842517</td>\n",
       "      <td>M</td>\n",
       "      <td>20.57</td>\n",
       "      <td>17.77</td>\n",
       "      <td>132.90</td>\n",
       "      <td>1326.0</td>\n",
       "      <td>0.08474</td>\n",
       "      <td>0.07864</td>\n",
       "      <td>0.0869</td>\n",
       "      <td>0.07017</td>\n",
       "      <td>...</td>\n",
       "      <td>24.99</td>\n",
       "      <td>23.41</td>\n",
       "      <td>158.80</td>\n",
       "      <td>1956.0</td>\n",
       "      <td>0.1238</td>\n",
       "      <td>0.1866</td>\n",
       "      <td>0.2416</td>\n",
       "      <td>0.1860</td>\n",
       "      <td>0.2750</td>\n",
       "      <td>0.08902</td>\n",
       "    </tr>\n",
       "    <tr>\n",
       "      <th>2</th>\n",
       "      <td>84300903</td>\n",
       "      <td>M</td>\n",
       "      <td>19.69</td>\n",
       "      <td>21.25</td>\n",
       "      <td>130.00</td>\n",
       "      <td>1203.0</td>\n",
       "      <td>0.10960</td>\n",
       "      <td>0.15990</td>\n",
       "      <td>0.1974</td>\n",
       "      <td>0.12790</td>\n",
       "      <td>...</td>\n",
       "      <td>23.57</td>\n",
       "      <td>25.53</td>\n",
       "      <td>152.50</td>\n",
       "      <td>1709.0</td>\n",
       "      <td>0.1444</td>\n",
       "      <td>0.4245</td>\n",
       "      <td>0.4504</td>\n",
       "      <td>0.2430</td>\n",
       "      <td>0.3613</td>\n",
       "      <td>0.08758</td>\n",
       "    </tr>\n",
       "    <tr>\n",
       "      <th>3</th>\n",
       "      <td>84348301</td>\n",
       "      <td>M</td>\n",
       "      <td>11.42</td>\n",
       "      <td>20.38</td>\n",
       "      <td>77.58</td>\n",
       "      <td>386.1</td>\n",
       "      <td>0.14250</td>\n",
       "      <td>0.28390</td>\n",
       "      <td>0.2414</td>\n",
       "      <td>0.10520</td>\n",
       "      <td>...</td>\n",
       "      <td>14.91</td>\n",
       "      <td>26.50</td>\n",
       "      <td>98.87</td>\n",
       "      <td>567.7</td>\n",
       "      <td>0.2098</td>\n",
       "      <td>0.8663</td>\n",
       "      <td>0.6869</td>\n",
       "      <td>0.2575</td>\n",
       "      <td>0.6638</td>\n",
       "      <td>0.17300</td>\n",
       "    </tr>\n",
       "    <tr>\n",
       "      <th>4</th>\n",
       "      <td>84358402</td>\n",
       "      <td>M</td>\n",
       "      <td>20.29</td>\n",
       "      <td>14.34</td>\n",
       "      <td>135.10</td>\n",
       "      <td>1297.0</td>\n",
       "      <td>0.10030</td>\n",
       "      <td>0.13280</td>\n",
       "      <td>0.1980</td>\n",
       "      <td>0.10430</td>\n",
       "      <td>...</td>\n",
       "      <td>22.54</td>\n",
       "      <td>16.67</td>\n",
       "      <td>152.20</td>\n",
       "      <td>1575.0</td>\n",
       "      <td>0.1374</td>\n",
       "      <td>0.2050</td>\n",
       "      <td>0.4000</td>\n",
       "      <td>0.1625</td>\n",
       "      <td>0.2364</td>\n",
       "      <td>0.07678</td>\n",
       "    </tr>\n",
       "  </tbody>\n",
       "</table>\n",
       "<p>5 rows × 32 columns</p>\n",
       "</div>"
      ],
      "text/plain": [
       "         id diagnosis  radius_mean  texture_mean  perimeter_mean  area_mean  \\\n",
       "0    842302         M        17.99         10.38          122.80     1001.0   \n",
       "1    842517         M        20.57         17.77          132.90     1326.0   \n",
       "2  84300903         M        19.69         21.25          130.00     1203.0   \n",
       "3  84348301         M        11.42         20.38           77.58      386.1   \n",
       "4  84358402         M        20.29         14.34          135.10     1297.0   \n",
       "\n",
       "   smoothness_mean  compactness_mean  concavity_mean  concave points_mean  \\\n",
       "0          0.11840           0.27760          0.3001              0.14710   \n",
       "1          0.08474           0.07864          0.0869              0.07017   \n",
       "2          0.10960           0.15990          0.1974              0.12790   \n",
       "3          0.14250           0.28390          0.2414              0.10520   \n",
       "4          0.10030           0.13280          0.1980              0.10430   \n",
       "\n",
       "   ...  radius_worst  texture_worst  perimeter_worst  area_worst  \\\n",
       "0  ...         25.38          17.33           184.60      2019.0   \n",
       "1  ...         24.99          23.41           158.80      1956.0   \n",
       "2  ...         23.57          25.53           152.50      1709.0   \n",
       "3  ...         14.91          26.50            98.87       567.7   \n",
       "4  ...         22.54          16.67           152.20      1575.0   \n",
       "\n",
       "   smoothness_worst  compactness_worst  concavity_worst  concave points_worst  \\\n",
       "0            0.1622             0.6656           0.7119                0.2654   \n",
       "1            0.1238             0.1866           0.2416                0.1860   \n",
       "2            0.1444             0.4245           0.4504                0.2430   \n",
       "3            0.2098             0.8663           0.6869                0.2575   \n",
       "4            0.1374             0.2050           0.4000                0.1625   \n",
       "\n",
       "   symmetry_worst  fractal_dimension_worst  \n",
       "0          0.4601                  0.11890  \n",
       "1          0.2750                  0.08902  \n",
       "2          0.3613                  0.08758  \n",
       "3          0.6638                  0.17300  \n",
       "4          0.2364                  0.07678  \n",
       "\n",
       "[5 rows x 32 columns]"
      ]
     },
     "execution_count": 30,
     "metadata": {},
     "output_type": "execute_result"
    }
   ],
   "source": [
    "df.head()"
   ]
  },
  {
   "cell_type": "code",
   "execution_count": 31,
   "id": "3045a3a5",
   "metadata": {},
   "outputs": [
    {
     "data": {
      "text/html": [
       "<div>\n",
       "<style scoped>\n",
       "    .dataframe tbody tr th:only-of-type {\n",
       "        vertical-align: middle;\n",
       "    }\n",
       "\n",
       "    .dataframe tbody tr th {\n",
       "        vertical-align: top;\n",
       "    }\n",
       "\n",
       "    .dataframe thead th {\n",
       "        text-align: right;\n",
       "    }\n",
       "</style>\n",
       "<table border=\"1\" class=\"dataframe\">\n",
       "  <thead>\n",
       "    <tr style=\"text-align: right;\">\n",
       "      <th></th>\n",
       "      <th>id</th>\n",
       "      <th>radius_mean</th>\n",
       "      <th>texture_mean</th>\n",
       "      <th>perimeter_mean</th>\n",
       "      <th>area_mean</th>\n",
       "      <th>smoothness_mean</th>\n",
       "      <th>compactness_mean</th>\n",
       "      <th>concavity_mean</th>\n",
       "      <th>concave points_mean</th>\n",
       "      <th>symmetry_mean</th>\n",
       "      <th>...</th>\n",
       "      <th>radius_worst</th>\n",
       "      <th>texture_worst</th>\n",
       "      <th>perimeter_worst</th>\n",
       "      <th>area_worst</th>\n",
       "      <th>smoothness_worst</th>\n",
       "      <th>compactness_worst</th>\n",
       "      <th>concavity_worst</th>\n",
       "      <th>concave points_worst</th>\n",
       "      <th>symmetry_worst</th>\n",
       "      <th>fractal_dimension_worst</th>\n",
       "    </tr>\n",
       "  </thead>\n",
       "  <tbody>\n",
       "    <tr>\n",
       "      <th>count</th>\n",
       "      <td>5.690000e+02</td>\n",
       "      <td>569.000000</td>\n",
       "      <td>569.000000</td>\n",
       "      <td>569.000000</td>\n",
       "      <td>569.000000</td>\n",
       "      <td>569.000000</td>\n",
       "      <td>569.000000</td>\n",
       "      <td>569.000000</td>\n",
       "      <td>569.000000</td>\n",
       "      <td>569.000000</td>\n",
       "      <td>...</td>\n",
       "      <td>569.000000</td>\n",
       "      <td>569.000000</td>\n",
       "      <td>569.000000</td>\n",
       "      <td>569.000000</td>\n",
       "      <td>569.000000</td>\n",
       "      <td>569.000000</td>\n",
       "      <td>569.000000</td>\n",
       "      <td>569.000000</td>\n",
       "      <td>569.000000</td>\n",
       "      <td>569.000000</td>\n",
       "    </tr>\n",
       "    <tr>\n",
       "      <th>mean</th>\n",
       "      <td>3.037183e+07</td>\n",
       "      <td>14.127292</td>\n",
       "      <td>19.289649</td>\n",
       "      <td>91.969033</td>\n",
       "      <td>654.889104</td>\n",
       "      <td>0.096360</td>\n",
       "      <td>0.104341</td>\n",
       "      <td>0.088799</td>\n",
       "      <td>0.048919</td>\n",
       "      <td>0.181162</td>\n",
       "      <td>...</td>\n",
       "      <td>16.269190</td>\n",
       "      <td>25.677223</td>\n",
       "      <td>107.261213</td>\n",
       "      <td>880.583128</td>\n",
       "      <td>0.132369</td>\n",
       "      <td>0.254265</td>\n",
       "      <td>0.272188</td>\n",
       "      <td>0.114606</td>\n",
       "      <td>0.290076</td>\n",
       "      <td>0.083946</td>\n",
       "    </tr>\n",
       "    <tr>\n",
       "      <th>std</th>\n",
       "      <td>1.250206e+08</td>\n",
       "      <td>3.524049</td>\n",
       "      <td>4.301036</td>\n",
       "      <td>24.298981</td>\n",
       "      <td>351.914129</td>\n",
       "      <td>0.014064</td>\n",
       "      <td>0.052813</td>\n",
       "      <td>0.079720</td>\n",
       "      <td>0.038803</td>\n",
       "      <td>0.027414</td>\n",
       "      <td>...</td>\n",
       "      <td>4.833242</td>\n",
       "      <td>6.146258</td>\n",
       "      <td>33.602542</td>\n",
       "      <td>569.356993</td>\n",
       "      <td>0.022832</td>\n",
       "      <td>0.157336</td>\n",
       "      <td>0.208624</td>\n",
       "      <td>0.065732</td>\n",
       "      <td>0.061867</td>\n",
       "      <td>0.018061</td>\n",
       "    </tr>\n",
       "    <tr>\n",
       "      <th>min</th>\n",
       "      <td>8.670000e+03</td>\n",
       "      <td>6.981000</td>\n",
       "      <td>9.710000</td>\n",
       "      <td>43.790000</td>\n",
       "      <td>143.500000</td>\n",
       "      <td>0.052630</td>\n",
       "      <td>0.019380</td>\n",
       "      <td>0.000000</td>\n",
       "      <td>0.000000</td>\n",
       "      <td>0.106000</td>\n",
       "      <td>...</td>\n",
       "      <td>7.930000</td>\n",
       "      <td>12.020000</td>\n",
       "      <td>50.410000</td>\n",
       "      <td>185.200000</td>\n",
       "      <td>0.071170</td>\n",
       "      <td>0.027290</td>\n",
       "      <td>0.000000</td>\n",
       "      <td>0.000000</td>\n",
       "      <td>0.156500</td>\n",
       "      <td>0.055040</td>\n",
       "    </tr>\n",
       "    <tr>\n",
       "      <th>25%</th>\n",
       "      <td>8.692180e+05</td>\n",
       "      <td>11.700000</td>\n",
       "      <td>16.170000</td>\n",
       "      <td>75.170000</td>\n",
       "      <td>420.300000</td>\n",
       "      <td>0.086370</td>\n",
       "      <td>0.064920</td>\n",
       "      <td>0.029560</td>\n",
       "      <td>0.020310</td>\n",
       "      <td>0.161900</td>\n",
       "      <td>...</td>\n",
       "      <td>13.010000</td>\n",
       "      <td>21.080000</td>\n",
       "      <td>84.110000</td>\n",
       "      <td>515.300000</td>\n",
       "      <td>0.116600</td>\n",
       "      <td>0.147200</td>\n",
       "      <td>0.114500</td>\n",
       "      <td>0.064930</td>\n",
       "      <td>0.250400</td>\n",
       "      <td>0.071460</td>\n",
       "    </tr>\n",
       "    <tr>\n",
       "      <th>50%</th>\n",
       "      <td>9.060240e+05</td>\n",
       "      <td>13.370000</td>\n",
       "      <td>18.840000</td>\n",
       "      <td>86.240000</td>\n",
       "      <td>551.100000</td>\n",
       "      <td>0.095870</td>\n",
       "      <td>0.092630</td>\n",
       "      <td>0.061540</td>\n",
       "      <td>0.033500</td>\n",
       "      <td>0.179200</td>\n",
       "      <td>...</td>\n",
       "      <td>14.970000</td>\n",
       "      <td>25.410000</td>\n",
       "      <td>97.660000</td>\n",
       "      <td>686.500000</td>\n",
       "      <td>0.131300</td>\n",
       "      <td>0.211900</td>\n",
       "      <td>0.226700</td>\n",
       "      <td>0.099930</td>\n",
       "      <td>0.282200</td>\n",
       "      <td>0.080040</td>\n",
       "    </tr>\n",
       "    <tr>\n",
       "      <th>75%</th>\n",
       "      <td>8.813129e+06</td>\n",
       "      <td>15.780000</td>\n",
       "      <td>21.800000</td>\n",
       "      <td>104.100000</td>\n",
       "      <td>782.700000</td>\n",
       "      <td>0.105300</td>\n",
       "      <td>0.130400</td>\n",
       "      <td>0.130700</td>\n",
       "      <td>0.074000</td>\n",
       "      <td>0.195700</td>\n",
       "      <td>...</td>\n",
       "      <td>18.790000</td>\n",
       "      <td>29.720000</td>\n",
       "      <td>125.400000</td>\n",
       "      <td>1084.000000</td>\n",
       "      <td>0.146000</td>\n",
       "      <td>0.339100</td>\n",
       "      <td>0.382900</td>\n",
       "      <td>0.161400</td>\n",
       "      <td>0.317900</td>\n",
       "      <td>0.092080</td>\n",
       "    </tr>\n",
       "    <tr>\n",
       "      <th>max</th>\n",
       "      <td>9.113205e+08</td>\n",
       "      <td>28.110000</td>\n",
       "      <td>39.280000</td>\n",
       "      <td>188.500000</td>\n",
       "      <td>2501.000000</td>\n",
       "      <td>0.163400</td>\n",
       "      <td>0.345400</td>\n",
       "      <td>0.426800</td>\n",
       "      <td>0.201200</td>\n",
       "      <td>0.304000</td>\n",
       "      <td>...</td>\n",
       "      <td>36.040000</td>\n",
       "      <td>49.540000</td>\n",
       "      <td>251.200000</td>\n",
       "      <td>4254.000000</td>\n",
       "      <td>0.222600</td>\n",
       "      <td>1.058000</td>\n",
       "      <td>1.252000</td>\n",
       "      <td>0.291000</td>\n",
       "      <td>0.663800</td>\n",
       "      <td>0.207500</td>\n",
       "    </tr>\n",
       "  </tbody>\n",
       "</table>\n",
       "<p>8 rows × 31 columns</p>\n",
       "</div>"
      ],
      "text/plain": [
       "                 id  radius_mean  texture_mean  perimeter_mean    area_mean  \\\n",
       "count  5.690000e+02   569.000000    569.000000      569.000000   569.000000   \n",
       "mean   3.037183e+07    14.127292     19.289649       91.969033   654.889104   \n",
       "std    1.250206e+08     3.524049      4.301036       24.298981   351.914129   \n",
       "min    8.670000e+03     6.981000      9.710000       43.790000   143.500000   \n",
       "25%    8.692180e+05    11.700000     16.170000       75.170000   420.300000   \n",
       "50%    9.060240e+05    13.370000     18.840000       86.240000   551.100000   \n",
       "75%    8.813129e+06    15.780000     21.800000      104.100000   782.700000   \n",
       "max    9.113205e+08    28.110000     39.280000      188.500000  2501.000000   \n",
       "\n",
       "       smoothness_mean  compactness_mean  concavity_mean  concave points_mean  \\\n",
       "count       569.000000        569.000000      569.000000           569.000000   \n",
       "mean          0.096360          0.104341        0.088799             0.048919   \n",
       "std           0.014064          0.052813        0.079720             0.038803   \n",
       "min           0.052630          0.019380        0.000000             0.000000   \n",
       "25%           0.086370          0.064920        0.029560             0.020310   \n",
       "50%           0.095870          0.092630        0.061540             0.033500   \n",
       "75%           0.105300          0.130400        0.130700             0.074000   \n",
       "max           0.163400          0.345400        0.426800             0.201200   \n",
       "\n",
       "       symmetry_mean  ...  radius_worst  texture_worst  perimeter_worst  \\\n",
       "count     569.000000  ...    569.000000     569.000000       569.000000   \n",
       "mean        0.181162  ...     16.269190      25.677223       107.261213   \n",
       "std         0.027414  ...      4.833242       6.146258        33.602542   \n",
       "min         0.106000  ...      7.930000      12.020000        50.410000   \n",
       "25%         0.161900  ...     13.010000      21.080000        84.110000   \n",
       "50%         0.179200  ...     14.970000      25.410000        97.660000   \n",
       "75%         0.195700  ...     18.790000      29.720000       125.400000   \n",
       "max         0.304000  ...     36.040000      49.540000       251.200000   \n",
       "\n",
       "        area_worst  smoothness_worst  compactness_worst  concavity_worst  \\\n",
       "count   569.000000        569.000000         569.000000       569.000000   \n",
       "mean    880.583128          0.132369           0.254265         0.272188   \n",
       "std     569.356993          0.022832           0.157336         0.208624   \n",
       "min     185.200000          0.071170           0.027290         0.000000   \n",
       "25%     515.300000          0.116600           0.147200         0.114500   \n",
       "50%     686.500000          0.131300           0.211900         0.226700   \n",
       "75%    1084.000000          0.146000           0.339100         0.382900   \n",
       "max    4254.000000          0.222600           1.058000         1.252000   \n",
       "\n",
       "       concave points_worst  symmetry_worst  fractal_dimension_worst  \n",
       "count            569.000000      569.000000               569.000000  \n",
       "mean               0.114606        0.290076                 0.083946  \n",
       "std                0.065732        0.061867                 0.018061  \n",
       "min                0.000000        0.156500                 0.055040  \n",
       "25%                0.064930        0.250400                 0.071460  \n",
       "50%                0.099930        0.282200                 0.080040  \n",
       "75%                0.161400        0.317900                 0.092080  \n",
       "max                0.291000        0.663800                 0.207500  \n",
       "\n",
       "[8 rows x 31 columns]"
      ]
     },
     "execution_count": 31,
     "metadata": {},
     "output_type": "execute_result"
    }
   ],
   "source": [
    "df.describe()"
   ]
  },
  {
   "cell_type": "code",
   "execution_count": 32,
   "id": "7300588a",
   "metadata": {},
   "outputs": [
    {
     "name": "stdout",
     "output_type": "stream",
     "text": [
      "<class 'pandas.core.frame.DataFrame'>\n",
      "RangeIndex: 569 entries, 0 to 568\n",
      "Data columns (total 32 columns):\n",
      " #   Column                   Non-Null Count  Dtype  \n",
      "---  ------                   --------------  -----  \n",
      " 0   id                       569 non-null    int64  \n",
      " 1   diagnosis                569 non-null    object \n",
      " 2   radius_mean              569 non-null    float64\n",
      " 3   texture_mean             569 non-null    float64\n",
      " 4   perimeter_mean           569 non-null    float64\n",
      " 5   area_mean                569 non-null    float64\n",
      " 6   smoothness_mean          569 non-null    float64\n",
      " 7   compactness_mean         569 non-null    float64\n",
      " 8   concavity_mean           569 non-null    float64\n",
      " 9   concave points_mean      569 non-null    float64\n",
      " 10  symmetry_mean            569 non-null    float64\n",
      " 11  fractal_dimension_mean   569 non-null    float64\n",
      " 12  radius_se                569 non-null    float64\n",
      " 13  texture_se               569 non-null    float64\n",
      " 14  perimeter_se             569 non-null    float64\n",
      " 15  area_se                  569 non-null    float64\n",
      " 16  smoothness_se            569 non-null    float64\n",
      " 17  compactness_se           569 non-null    float64\n",
      " 18  concavity_se             569 non-null    float64\n",
      " 19  concave points_se        569 non-null    float64\n",
      " 20  symmetry_se              569 non-null    float64\n",
      " 21  fractal_dimension_se     569 non-null    float64\n",
      " 22  radius_worst             569 non-null    float64\n",
      " 23  texture_worst            569 non-null    float64\n",
      " 24  perimeter_worst          569 non-null    float64\n",
      " 25  area_worst               569 non-null    float64\n",
      " 26  smoothness_worst         569 non-null    float64\n",
      " 27  compactness_worst        569 non-null    float64\n",
      " 28  concavity_worst          569 non-null    float64\n",
      " 29  concave points_worst     569 non-null    float64\n",
      " 30  symmetry_worst           569 non-null    float64\n",
      " 31  fractal_dimension_worst  569 non-null    float64\n",
      "dtypes: float64(30), int64(1), object(1)\n",
      "memory usage: 142.4+ KB\n"
     ]
    }
   ],
   "source": [
    "df.info()"
   ]
  },
  {
   "cell_type": "code",
   "execution_count": 33,
   "id": "e61e4ce2",
   "metadata": {},
   "outputs": [
    {
     "name": "stdout",
     "output_type": "stream",
     "text": [
      "id имеет NAN: 0\n",
      "diagnosis имеет NAN: 0\n",
      "radius_mean имеет NAN: 0\n",
      "texture_mean имеет NAN: 0\n",
      "perimeter_mean имеет NAN: 0\n",
      "area_mean имеет NAN: 0\n",
      "smoothness_mean имеет NAN: 0\n",
      "compactness_mean имеет NAN: 0\n",
      "concavity_mean имеет NAN: 0\n",
      "concave points_mean имеет NAN: 0\n",
      "symmetry_mean имеет NAN: 0\n",
      "fractal_dimension_mean имеет NAN: 0\n",
      "radius_se имеет NAN: 0\n",
      "texture_se имеет NAN: 0\n",
      "perimeter_se имеет NAN: 0\n",
      "area_se имеет NAN: 0\n",
      "smoothness_se имеет NAN: 0\n",
      "compactness_se имеет NAN: 0\n",
      "concavity_se имеет NAN: 0\n",
      "concave points_se имеет NAN: 0\n",
      "symmetry_se имеет NAN: 0\n",
      "fractal_dimension_se имеет NAN: 0\n",
      "radius_worst имеет NAN: 0\n",
      "texture_worst имеет NAN: 0\n",
      "perimeter_worst имеет NAN: 0\n",
      "area_worst имеет NAN: 0\n",
      "smoothness_worst имеет NAN: 0\n",
      "compactness_worst имеет NAN: 0\n",
      "concavity_worst имеет NAN: 0\n",
      "concave points_worst имеет NAN: 0\n",
      "symmetry_worst имеет NAN: 0\n",
      "fractal_dimension_worst имеет NAN: 0\n"
     ]
    }
   ],
   "source": [
    "def count_nan(data):\n",
    "    for col in data.columns:\n",
    "        count_nan = data[data[col].isnull()].shape[0]\n",
    "        print('{} имеет NAN: {}'.format(col, count_nan))\n",
    "count_nan(df)"
   ]
  },
  {
   "cell_type": "code",
   "execution_count": 34,
   "id": "f0f340a0",
   "metadata": {},
   "outputs": [],
   "source": [
    "#Разобьем дату на target и данные для обучения\n",
    "data_target = df.diagnosis\n",
    "df.drop (df.columns [[1]], axis= 1 , inplace= True )\n",
    "data_train = df"
   ]
  },
  {
   "cell_type": "code",
   "execution_count": 35,
   "id": "18a3cf63",
   "metadata": {},
   "outputs": [],
   "source": [
    "# Разделение выборки на обучающую и тестовую\n",
    "X_train, X_test, y_train, y_test = train_test_split(\n",
    "    data_train, data_target, test_size=0.3, random_state=1)"
   ]
  },
  {
   "cell_type": "code",
   "execution_count": 36,
   "id": "a07b53fc",
   "metadata": {},
   "outputs": [
    {
     "data": {
      "text/plain": [
       "(0.7160804020100503, 0.7309941520467836)"
      ]
     },
     "execution_count": 36,
     "metadata": {},
     "output_type": "execute_result"
    }
   ],
   "source": [
    "# В моделях k-ближайших соседей большое значение k \n",
    "# ведёт к большому смещению и низкой дисперсии (недообучению)\n",
    "# 20 ближайших соседей\n",
    "cl1_1 = KNeighborsClassifier(n_neighbors=10)\n",
    "cl1_1.fit(X_train, y_train)\n",
    "target1_0 = cl1_1.predict(X_train)\n",
    "target1_1 = cl1_1.predict(X_test)\n",
    "accuracy_score(y_train, target1_0), accuracy_score(y_test, target1_1)"
   ]
  },
  {
   "cell_type": "code",
   "execution_count": 49,
   "id": "70940cb6",
   "metadata": {},
   "outputs": [
    {
     "name": "stdout",
     "output_type": "stream",
     "text": [
      "[0.49473684 0.52631579 0.61904762] 0.5467000835421888\n"
     ]
    }
   ],
   "source": [
    "scores = cross_val_score(KNeighborsClassifier(n_neighbors=40), \n",
    "                         data_train, data_target, cv=3)\n",
    "print(scores, np.mean(scores))"
   ]
  },
  {
   "cell_type": "markdown",
   "id": "0dfd953d",
   "metadata": {},
   "source": [
    "# Произведите подбор гиперпараметра K с использованием GridSearchCV и RandomizedSearchCV и кросс-валидации, оцените качество оптимальной модели."
   ]
  },
  {
   "cell_type": "markdown",
   "id": "917f7826",
   "metadata": {},
   "source": [
    "# Стратегии валидации"
   ]
  },
  {
   "cell_type": "markdown",
   "id": "bdae8592",
   "metadata": {},
   "source": [
    "## 1) стратегия валидации k-fold https://www.codecamp.ru/blog/cross-validation-k-fold/\n",
    "\n"
   ]
  },
  {
   "cell_type": "markdown",
   "id": "b7c7e4d3",
   "metadata": {},
   "source": [
    "### Существуют три подхода для выбора значения параметра k:\n",
    "\n",
    "### Представитель: Значение для k выбрано таким образом, что каждая группа подборка/тестовая группа данных достаточно велика, чтобы быть статистически репрезентативной для более широкого набора данных.\n",
    "### k=10: Значение для k фиксируется до 10. Данное число было найдено в ходе экспериментов и обычно приводит к оценке качества модели с низкой предвзятостью небольшую дисперсии.\n",
    "### k = n: Значение для k фиксируется на n, где n является размером набора данных, чтобы дать каждому тестовой группе возможность быть использованной в наборе данных.\n",
    "### k выбирают обычно 5 или 10, но нет формального правила. По мере того как k становится больше, разница в размере между тестовой выборкой и подмножествами resampling становится мала. По мере уменьшения этой разницы предвзятость к технике становится меньше.\n",
    "\n",
    "### Если выбрано значение для k, которое не делит датасет равномерно, то одна группа будет содержать оставшуюся часть примеров. Предпочтительно разделить исходный датасет на группы k с одинаковым количеством данных, так что выборка оценки качества моделей была эквивалентна."
   ]
  },
  {
   "cell_type": "code",
   "execution_count": 54,
   "id": "6820f536",
   "metadata": {},
   "outputs": [
    {
     "name": "stdout",
     "output_type": "stream",
     "text": [
      "[0.26903969 0.56829463 0.5499232  0.64738856 0.69023255]\n"
     ]
    }
   ],
   "source": [
    "kf = KFold(n_splits=5)\n",
    "scores = cross_val_score(KNeighborsClassifier(n_neighbors=2), \n",
    "                         data_train, data_target, scoring='f1_weighted', \n",
    "                         cv=kf)\n",
    "print(scores)"
   ]
  },
  {
   "cell_type": "markdown",
   "id": "d7f64aad",
   "metadata": {},
   "source": [
    "## 2) стратегия валидации Leave One Out (LOO) https://www.helenkapatsa.ru/poeliemientnaia/\n",
    "\n",
    "### В тестовую выборку помещается единственный элемент (One Out). Количество фолдов в этом случае определяется автоматически и равняется количеству элементов.\n",
    "\n",
    "### Данный метод более ресурсоемкий чем KFold.\n",
    "\n",
    "### Существует эмпирическое правило, что вместо Leave One Out лучше использовать KFold на 5 или 10 фолдов."
   ]
  },
  {
   "cell_type": "code",
   "execution_count": 57,
   "id": "3f7ee394",
   "metadata": {},
   "outputs": [
    {
     "name": "stdout",
     "output_type": "stream",
     "text": [
      "[1. 1. 1. 1. 1. 1. 1. 1. 1. 1. 1. 1. 1. 1. 1. 1. 1. 1. 1. 1. 1. 1. 0. 1.\n",
      " 1. 1. 1. 1. 1. 1. 1. 1. 0. 1. 1. 1. 1. 0. 1. 1. 1. 1. 1. 1. 0. 1. 1. 0.\n",
      " 1. 1. 1. 1. 1. 1. 0. 1. 1. 0. 1. 1. 1. 1. 0. 1. 0. 0. 1. 1. 1. 1. 1. 1.\n",
      " 1. 0. 1. 0. 1. 1. 1. 1. 1. 1. 1. 1. 1. 0. 1. 1. 1. 1. 1. 0. 1. 1. 0. 1.\n",
      " 1. 1. 1. 0. 1. 1. 1. 1. 1. 0. 1. 1. 1. 1. 1. 1. 1. 1. 1. 1. 1. 1. 1. 1.\n",
      " 1. 1. 1. 1. 1. 1. 0. 1. 1. 0. 1. 0. 0. 1. 0. 0. 1. 1. 0. 1. 1. 0. 1. 1.\n",
      " 1. 1. 0. 1. 1. 1. 1. 1. 1. 1. 1. 1. 0. 1. 1. 1. 1. 0. 0. 1. 1. 1. 1. 0.\n",
      " 0. 1. 1. 0. 0. 1. 1. 1. 1. 0. 1. 1. 1. 1. 1. 1. 0. 1. 1. 1. 1. 1. 0. 1.\n",
      " 1. 0. 0. 0. 0. 1. 1. 0. 0. 1. 1. 0. 0. 0. 0. 0. 1. 1. 0. 1. 0. 0. 0. 0.\n",
      " 1. 1. 1. 0. 1. 1. 1. 0. 1. 1. 1. 1. 1. 0. 0. 1. 1. 0. 1. 1. 0. 0. 1. 0.\n",
      " 0. 1. 1. 1. 1. 1. 1. 1. 1. 1. 1. 1. 1. 0. 1. 1. 0. 1. 1. 0. 1. 1. 1. 1.\n",
      " 1. 0. 1. 1. 1. 1. 1. 1. 1. 1. 0. 1. 1. 1. 1. 1. 1. 1. 0. 0. 1. 1. 1. 1.\n",
      " 1. 1. 1. 1. 1. 1. 1. 1. 1. 0. 1. 1. 0. 1. 0. 1. 1. 1. 1. 1. 1. 1. 1. 1.\n",
      " 1. 1. 1. 1. 1. 1. 1. 1. 1. 1. 1. 1. 1. 1. 1. 1. 0. 0. 0. 1. 1. 1. 1. 0.\n",
      " 1. 1. 1. 1. 1. 1. 1. 0. 1. 1. 1. 1. 1. 1. 1. 0. 1. 0. 1. 1. 1. 1. 1. 1.\n",
      " 1. 1. 1. 1. 1. 0. 0. 1. 1. 1. 0. 1. 0. 0. 1. 1. 1. 1. 1. 0. 1. 1. 1. 1.\n",
      " 1. 0. 1. 1. 1. 0. 1. 1. 0. 0. 1. 1. 1. 1. 1. 1. 0. 1. 1. 1. 1. 1. 1. 1.\n",
      " 1. 1. 1. 1. 1. 1. 0. 1. 1. 1. 1. 1. 1. 1. 1. 1. 1. 1. 1. 1. 1. 1. 0. 1.\n",
      " 1. 1. 1. 0. 1. 1. 1. 1. 1. 0. 1. 1. 0. 1. 0. 1. 1. 1. 1. 0. 1. 1. 1. 1.\n",
      " 1. 1. 1. 1. 0. 0. 1. 1. 1. 1. 1. 1. 0. 1. 1. 1. 1. 1. 1. 1. 1. 1. 1. 0.\n",
      " 1. 1. 1. 1. 1. 1. 1. 1. 1. 0. 1. 1. 1. 1. 1. 1. 1. 1. 0. 0. 1. 0. 1. 1.\n",
      " 1. 1. 1. 1. 1. 0. 1. 0. 0. 1. 0. 1. 0. 0. 1. 1. 1. 0. 1. 1. 1. 1. 1. 1.\n",
      " 1. 1. 1. 1. 1. 0. 1. 0. 0. 1. 1. 1. 1. 1. 1. 1. 1. 1. 1. 1. 1. 1. 1. 1.\n",
      " 1. 1. 1. 1. 1. 1. 1. 1. 1. 1. 0. 1. 1. 1. 1. 1. 1.]\n",
      "0.7978910369068541\n"
     ]
    }
   ],
   "source": [
    "kf = LeaveOneOut()\n",
    "scores = cross_val_score(KNeighborsClassifier(n_neighbors=2), \n",
    "                         data_train, data_target, scoring='f1_weighted', \n",
    "                         cv=kf)\n",
    "print(scores)\n",
    "print(np.mean(scores))"
   ]
  },
  {
   "cell_type": "markdown",
   "id": "5cfd4d98",
   "metadata": {},
   "source": [
    "# Подбор гиперпараметра K"
   ]
  },
  {
   "cell_type": "markdown",
   "id": "96718033",
   "metadata": {},
   "source": [
    "## 1) Grid Search (решетчатый поиск) https://academy.yandex.ru/handbook/ml/article/podbor-giperparametrov"
   ]
  },
  {
   "cell_type": "code",
   "execution_count": 60,
   "id": "15af2d05",
   "metadata": {},
   "outputs": [
    {
     "name": "stdout",
     "output_type": "stream",
     "text": [
      "Fitting 5 folds for each of 30 candidates, totalling 150 fits\n"
     ]
    }
   ],
   "source": [
    "knn = KNeighborsClassifier() # модель мо\n",
    "from sklearn.model_selection import GridSearchCV\n",
    "k_range = list(range(1, 31)) # список гиперпараметров\n",
    "param_grid = dict(n_neighbors=k_range)\n",
    "kf = KFold(n_splits=5) #стратегия валидации\n",
    "# создание grid search\n",
    "grid = GridSearchCV(knn, param_grid, cv=kf, scoring='accuracy', return_train_score=False,verbose=1)\n",
    "  \n",
    "# обучение для подбора гиперпараметра с помощью grid search\n",
    "grid_search= grid.fit(data_train, data_target)"
   ]
  },
  {
   "cell_type": "code",
   "execution_count": 73,
   "id": "b6565516",
   "metadata": {},
   "outputs": [
    {
     "data": {
      "text/plain": [
       "{'mean_fit_time': array([0.00129271, 0.00117097, 0.00142884, 0.00117373, 0.00116873,\n",
       "        0.00115886, 0.00115895, 0.00115342, 0.00139713, 0.00151653,\n",
       "        0.00143232, 0.00137696, 0.00120659, 0.00138726, 0.00115986,\n",
       "        0.00115466, 0.00115991, 0.00116968, 0.00115604, 0.00117979,\n",
       "        0.00114808, 0.00121713, 0.00143447, 0.00117202, 0.00117636,\n",
       "        0.00115123, 0.00115213, 0.00131354, 0.00122724, 0.00116506]),\n",
       " 'std_fit_time': array([1.72843440e-04, 3.18898909e-05, 2.16596685e-04, 2.02664207e-05,\n",
       "        1.92071286e-05, 2.60127672e-06, 7.44385416e-06, 4.11132084e-06,\n",
       "        2.27153131e-04, 3.23099890e-04, 3.09888710e-04, 2.06155989e-04,\n",
       "        7.24371047e-05, 2.78762306e-04, 7.08612747e-06, 2.22126287e-06,\n",
       "        8.07391062e-06, 1.58321426e-05, 8.28023297e-06, 4.08548445e-05,\n",
       "        6.67333560e-06, 1.12383751e-04, 2.92353159e-04, 1.67507675e-05,\n",
       "        1.97533786e-05, 4.72189185e-06, 5.37071918e-06, 2.39850399e-04,\n",
       "        6.94725066e-05, 2.17176163e-05]),\n",
       " 'mean_score_time': array([0.0028307 , 0.0030756 , 0.00313926, 0.00279732, 0.00276752,\n",
       "        0.00277367, 0.00275455, 0.00285201, 0.00305462, 0.00333767,\n",
       "        0.00327067, 0.00306616, 0.00279679, 0.00311508, 0.00282254,\n",
       "        0.00281487, 0.0028162 , 0.00280051, 0.00282345, 0.00282288,\n",
       "        0.00285258, 0.00295887, 0.00330548, 0.00290008, 0.00287113,\n",
       "        0.0028738 , 0.00284762, 0.00305119, 0.00326519, 0.00288124]),\n",
       " 'std_score_time': array([3.47254951e-04, 6.49242325e-04, 1.11459806e-04, 5.87420803e-05,\n",
       "        2.79148960e-05, 2.40614317e-05, 2.15652735e-05, 1.59954767e-04,\n",
       "        1.82851227e-04, 4.22130942e-04, 2.64059675e-04, 2.35994153e-04,\n",
       "        1.66597104e-05, 2.48479317e-04, 3.13592855e-05, 1.48682995e-05,\n",
       "        3.37946036e-05, 4.05996529e-05, 3.93939647e-05, 2.36830189e-05,\n",
       "        4.46670956e-05, 1.36618098e-04, 4.12533716e-04, 5.93828653e-05,\n",
       "        6.39821655e-05, 5.54175460e-05, 3.63334270e-05, 2.03492938e-04,\n",
       "        4.83201927e-04, 5.64707679e-05]),\n",
       " 'param_n_neighbors': masked_array(data=[1, 2, 3, 4, 5, 6, 7, 8, 9, 10, 11, 12, 13, 14, 15, 16,\n",
       "                    17, 18, 19, 20, 21, 22, 23, 24, 25, 26, 27, 28, 29, 30],\n",
       "              mask=[False, False, False, False, False, False, False, False,\n",
       "                    False, False, False, False, False, False, False, False,\n",
       "                    False, False, False, False, False, False, False, False,\n",
       "                    False, False, False, False, False, False],\n",
       "        fill_value='?',\n",
       "             dtype=object),\n",
       " 'params': [{'n_neighbors': 1},\n",
       "  {'n_neighbors': 2},\n",
       "  {'n_neighbors': 3},\n",
       "  {'n_neighbors': 4},\n",
       "  {'n_neighbors': 5},\n",
       "  {'n_neighbors': 6},\n",
       "  {'n_neighbors': 7},\n",
       "  {'n_neighbors': 8},\n",
       "  {'n_neighbors': 9},\n",
       "  {'n_neighbors': 10},\n",
       "  {'n_neighbors': 11},\n",
       "  {'n_neighbors': 12},\n",
       "  {'n_neighbors': 13},\n",
       "  {'n_neighbors': 14},\n",
       "  {'n_neighbors': 15},\n",
       "  {'n_neighbors': 16},\n",
       "  {'n_neighbors': 17},\n",
       "  {'n_neighbors': 18},\n",
       "  {'n_neighbors': 19},\n",
       "  {'n_neighbors': 20},\n",
       "  {'n_neighbors': 21},\n",
       "  {'n_neighbors': 22},\n",
       "  {'n_neighbors': 23},\n",
       "  {'n_neighbors': 24},\n",
       "  {'n_neighbors': 25},\n",
       "  {'n_neighbors': 26},\n",
       "  {'n_neighbors': 27},\n",
       "  {'n_neighbors': 28},\n",
       "  {'n_neighbors': 29},\n",
       "  {'n_neighbors': 30}],\n",
       " 'split0_test_score': array([0.53508772, 0.42105263, 0.42105263, 0.42105263, 0.42105263,\n",
       "        0.4122807 , 0.53508772, 0.40350877, 0.42982456, 0.4122807 ,\n",
       "        0.4122807 , 0.40350877, 0.40350877, 0.40350877, 0.40350877,\n",
       "        0.40350877, 0.40350877, 0.40350877, 0.40350877, 0.40350877,\n",
       "        0.40350877, 0.40350877, 0.40350877, 0.40350877, 0.40350877,\n",
       "        0.40350877, 0.40350877, 0.40350877, 0.40350877, 0.40350877]),\n",
       " 'split1_test_score': array([0.53508772, 0.5877193 , 0.56140351, 0.5877193 , 0.5877193 ,\n",
       "        0.57894737, 0.57894737, 0.56140351, 0.54385965, 0.54385965,\n",
       "        0.54385965, 0.54385965, 0.53508772, 0.57017544, 0.57017544,\n",
       "        0.57017544, 0.61403509, 0.61403509, 0.61403509, 0.61403509,\n",
       "        0.59649123, 0.60526316, 0.60526316, 0.63157895, 0.60526316,\n",
       "        0.61403509, 0.60526316, 0.60526316, 0.60526316, 0.5877193 ]),\n",
       " 'split2_test_score': array([0.64912281, 0.66666667, 0.69298246, 0.71052632, 0.69298246,\n",
       "        0.6754386 , 0.6754386 , 0.68421053, 0.6754386 , 0.68421053,\n",
       "        0.68421053, 0.68421053, 0.70175439, 0.6754386 , 0.6754386 ,\n",
       "        0.69298246, 0.69298246, 0.69298246, 0.69298246, 0.6754386 ,\n",
       "        0.69298246, 0.65789474, 0.68421053, 0.66666667, 0.6754386 ,\n",
       "        0.64912281, 0.66666667, 0.64035088, 0.65789474, 0.66666667]),\n",
       " 'split3_test_score': array([0.71052632, 0.73684211, 0.73684211, 0.74561404, 0.73684211,\n",
       "        0.73684211, 0.72807018, 0.74561404, 0.73684211, 0.73684211,\n",
       "        0.73684211, 0.74561404, 0.74561404, 0.74561404, 0.74561404,\n",
       "        0.74561404, 0.74561404, 0.74561404, 0.74561404, 0.74561404,\n",
       "        0.74561404, 0.74561404, 0.74561404, 0.74561404, 0.74561404,\n",
       "        0.74561404, 0.74561404, 0.74561404, 0.74561404, 0.74561404]),\n",
       " 'split4_test_score': array([0.77876106, 0.77876106, 0.77876106, 0.7699115 , 0.7699115 ,\n",
       "        0.7699115 , 0.7699115 , 0.7699115 , 0.7699115 , 0.7699115 ,\n",
       "        0.7699115 , 0.7699115 , 0.7699115 , 0.7699115 , 0.7699115 ,\n",
       "        0.7699115 , 0.7699115 , 0.7699115 , 0.7699115 , 0.7699115 ,\n",
       "        0.7699115 , 0.7699115 , 0.7699115 , 0.7699115 , 0.7699115 ,\n",
       "        0.7699115 , 0.7699115 , 0.7699115 , 0.7699115 , 0.7699115 ]),\n",
       " 'mean_test_score': array([0.64171712, 0.63820835, 0.63820835, 0.64696476, 0.6417016 ,\n",
       "        0.63468406, 0.65749107, 0.63292967, 0.63117528, 0.6294209 ,\n",
       "        0.6294209 , 0.6294209 , 0.63117528, 0.63292967, 0.63292967,\n",
       "        0.63643844, 0.64521037, 0.64521037, 0.64521037, 0.6417016 ,\n",
       "        0.6417016 , 0.63643844, 0.6417016 , 0.64345599, 0.63994721,\n",
       "        0.63643844, 0.63819283, 0.63292967, 0.63643844, 0.63468406]),\n",
       " 'std_test_score': array([0.09623954, 0.12649056, 0.13079715, 0.12917737, 0.12626898,\n",
       "        0.12880489, 0.08842349, 0.13552967, 0.12691619, 0.13322869,\n",
       "        0.13322869, 0.13754808, 0.14027846, 0.1340454 , 0.1340454 ,\n",
       "        0.13533559, 0.13214008, 0.13214008, 0.13214008, 0.13105344,\n",
       "        0.13315037, 0.13070797, 0.13198952, 0.13013972, 0.13147011,\n",
       "        0.13011795, 0.13104263, 0.1303198 , 0.13070797, 0.13210792]),\n",
       " 'rank_test_score': array([ 7, 13, 13,  2,  8, 20,  1, 23, 26, 28, 28, 28, 26, 23, 23, 19,  3,\n",
       "         3,  3,  8,  8, 16,  8,  6, 12, 16, 15, 22, 16, 20], dtype=int32)}"
      ]
     },
     "execution_count": 73,
     "metadata": {},
     "output_type": "execute_result"
    }
   ],
   "source": [
    "grid_search.cv_results_"
   ]
  },
  {
   "cell_type": "code",
   "execution_count": 74,
   "id": "dee02cfb",
   "metadata": {},
   "outputs": [
    {
     "name": "stdout",
     "output_type": "stream",
     "text": [
      "{'n_neighbors': 7}\n",
      "65.74910728147805\n"
     ]
    }
   ],
   "source": [
    "print(grid_search.best_params_)\n",
    "print(grid_search.best_score_ * 100)"
   ]
  },
  {
   "cell_type": "code",
   "execution_count": 66,
   "id": "edb7f8fc",
   "metadata": {},
   "outputs": [
    {
     "data": {
      "text/plain": [
       "Text(0, 0.5, 'обучаемость модели')"
      ]
     },
     "execution_count": 66,
     "metadata": {},
     "output_type": "execute_result"
    },
    {
     "data": {
      "image/png": "[encoded data removed]",
      "text/plain": [
       "<Figure size 432x288 with 1 Axes>"
      ]
     },
     "metadata": {
      "needs_background": "light"
     },
     "output_type": "display_data"
    }
   ],
   "source": [
    "plt.plot(k_range, grid_search.cv_results_['mean_test_score'])\n",
    "plt.xlabel('параметр K', fontsize=12, color='blue')\n",
    "plt.ylabel('обучаемость модели', fontsize=12, color='blue')"
   ]
  },
  {
   "cell_type": "markdown",
   "id": "4746e02b",
   "metadata": {},
   "source": [
    "## 2) RandomizedSearch https://academy.yandex.ru/handbook/ml/article/podbor-giperparametrov"
   ]
  },
  {
   "cell_type": "code",
   "execution_count": 84,
   "id": "17bb850b",
   "metadata": {},
   "outputs": [
    {
     "data": {
      "text/plain": [
       "RandomizedSearchCV(cv=KFold(n_splits=5, random_state=None, shuffle=False),\n",
       "                   estimator=KNeighborsClassifier(),\n",
       "                   param_distributions={'n_neighbors': [1, 2, 3, 4, 5, 6, 7, 8,\n",
       "                                                        9, 10, 11, 12, 13, 14,\n",
       "                                                        15, 16, 17, 18, 19, 20,\n",
       "                                                        21, 22, 23, 24, 25, 26,\n",
       "                                                        27, 28, 29, 30]},\n",
       "                   scoring='accuracy')"
      ]
     },
     "execution_count": 84,
     "metadata": {},
     "output_type": "execute_result"
    }
   ],
   "source": [
    "knn = KNeighborsClassifier() # модель мо\n",
    "from sklearn.model_selection import GridSearchCV\n",
    "k_range = list(range(1, 31)) # список гиперпараметров\n",
    "param_random_search = dict(n_neighbors=k_range)\n",
    "kf = KFold(n_splits=5)#стратегия валидации\n",
    "# создание random search\n",
    "random_search = RandomizedSearchCV(KNeighborsClassifier(), param_random_search, cv=kf, scoring='accuracy')\n",
    "# обучение для подбора гиперпараметра с помощью random search\n",
    "random_search.fit(data_train, data_target)"
   ]
  },
  {
   "cell_type": "code",
   "execution_count": 85,
   "id": "25d50c25",
   "metadata": {},
   "outputs": [
    {
     "data": {
      "text/plain": [
       "{'mean_fit_time': array([0.00181026, 0.00140438, 0.00116601, 0.00116029, 0.00124249,\n",
       "        0.00118337, 0.00116725, 0.00117731, 0.00116835, 0.00116944]),\n",
       " 'std_fit_time': array([2.48152737e-04, 1.49237812e-04, 8.36927323e-06, 6.38071550e-06,\n",
       "        7.88999955e-05, 3.63369313e-05, 1.18840601e-05, 3.73659041e-05,\n",
       "        1.16142889e-05, 8.56052192e-06]),\n",
       " 'mean_score_time': array([0.0039063 , 0.00324302, 0.00287957, 0.00285325, 0.00294299,\n",
       "        0.0028873 , 0.00284386, 0.00294585, 0.00282855, 0.00282073]),\n",
       " 'std_score_time': array([3.40805541e-04, 4.24663833e-04, 3.06196295e-05, 1.87861737e-05,\n",
       "        2.13470490e-04, 5.10697717e-05, 5.63931259e-05, 1.36300079e-04,\n",
       "        2.96941319e-05, 3.32489219e-05]),\n",
       " 'param_n_neighbors': masked_array(data=[5, 14, 24, 15, 7, 26, 16, 23, 13, 8],\n",
       "              mask=[False, False, False, False, False, False, False, False,\n",
       "                    False, False],\n",
       "        fill_value='?',\n",
       "             dtype=object),\n",
       " 'params': [{'n_neighbors': 5},\n",
       "  {'n_neighbors': 14},\n",
       "  {'n_neighbors': 24},\n",
       "  {'n_neighbors': 15},\n",
       "  {'n_neighbors': 7},\n",
       "  {'n_neighbors': 26},\n",
       "  {'n_neighbors': 16},\n",
       "  {'n_neighbors': 23},\n",
       "  {'n_neighbors': 13},\n",
       "  {'n_neighbors': 8}],\n",
       " 'split0_test_score': array([0.42105263, 0.40350877, 0.40350877, 0.40350877, 0.53508772,\n",
       "        0.40350877, 0.40350877, 0.40350877, 0.40350877, 0.40350877]),\n",
       " 'split1_test_score': array([0.5877193 , 0.57017544, 0.63157895, 0.57017544, 0.57894737,\n",
       "        0.61403509, 0.57017544, 0.60526316, 0.53508772, 0.56140351]),\n",
       " 'split2_test_score': array([0.69298246, 0.6754386 , 0.66666667, 0.6754386 , 0.6754386 ,\n",
       "        0.64912281, 0.69298246, 0.68421053, 0.70175439, 0.68421053]),\n",
       " 'split3_test_score': array([0.73684211, 0.74561404, 0.74561404, 0.74561404, 0.72807018,\n",
       "        0.74561404, 0.74561404, 0.74561404, 0.74561404, 0.74561404]),\n",
       " 'split4_test_score': array([0.7699115, 0.7699115, 0.7699115, 0.7699115, 0.7699115, 0.7699115,\n",
       "        0.7699115, 0.7699115, 0.7699115, 0.7699115]),\n",
       " 'mean_test_score': array([0.6417016 , 0.63292967, 0.64345599, 0.63292967, 0.65749107,\n",
       "        0.63643844, 0.63643844, 0.6417016 , 0.63117528, 0.63292967]),\n",
       " 'std_test_score': array([0.12626898, 0.1340454 , 0.13013972, 0.1340454 , 0.08842349,\n",
       "        0.13011795, 0.13533559, 0.13198952, 0.14027846, 0.13552967]),\n",
       " 'rank_test_score': array([ 3,  7,  2,  7,  1,  5,  6,  3, 10,  7], dtype=int32)}"
      ]
     },
     "execution_count": 85,
     "metadata": {},
     "output_type": "execute_result"
    }
   ],
   "source": [
    "random_search.cv_results_"
   ]
  },
  {
   "cell_type": "code",
   "execution_count": 86,
   "id": "ba36df31",
   "metadata": {},
   "outputs": [
    {
     "name": "stdout",
     "output_type": "stream",
     "text": [
      "{'n_neighbors': 7}\n",
      "65.74910728147805\n"
     ]
    }
   ],
   "source": [
    "print(random_search.best_params_)\n",
    "print(random_search.best_score_ * 100)"
   ]
  },
  {
   "cell_type": "markdown",
   "id": "d15ec84a",
   "metadata": {},
   "source": [
    "### Сравните метрики качества исходной и оптимальной моделей.\n",
    "### Строится зависимость метрики на обучающей выборке от размера выборки."
   ]
  },
  {
   "cell_type": "code",
   "execution_count": 90,
   "id": "420830ce",
   "metadata": {},
   "outputs": [
    {
     "data": {
      "text/plain": [
       "<module 'matplotlib.pyplot' from '/home/vlad/anaconda3/lib/python3.9/site-packages/matplotlib/pyplot.py'>"
      ]
     },
     "execution_count": 90,
     "metadata": {},
     "output_type": "execute_result"
    },
    {
     "data": {
      "image/png": "[encoded data removed]",
      "text/plain": [
       "<Figure size 432x288 with 1 Axes>"
      ]
     },
     "metadata": {
      "needs_background": "light"
     },
     "output_type": "display_data"
    }
   ],
   "source": [
    "from sklearn.model_selection import learning_curve, validation_curve\n",
    "def plot_learning_curve(estimator, title, X, y, ylim=None, cv=None,\n",
    "                        n_jobs=None, train_sizes=np.linspace(.1, 1.0, 5), scoring='accuracy'):\n",
    "    plt.figure()\n",
    "    plt.title(title)\n",
    "    if ylim is not None:\n",
    "        plt.ylim(*ylim)\n",
    "    plt.xlabel(\"Training examples\")\n",
    "    plt.ylabel(scoring)\n",
    "    train_sizes, train_scores, test_scores = learning_curve(\n",
    "        estimator, X, y, cv=cv, scoring=scoring, n_jobs=n_jobs, train_sizes=train_sizes)\n",
    "    train_scores_mean = np.mean(train_scores, axis=1)\n",
    "    train_scores_std = np.std(train_scores, axis=1)\n",
    "    test_scores_mean = np.mean(test_scores, axis=1)\n",
    "    test_scores_std = np.std(test_scores, axis=1)\n",
    "    plt.grid()\n",
    "\n",
    "    plt.fill_between(train_sizes, train_scores_mean - train_scores_std,\n",
    "                     train_scores_mean + train_scores_std, alpha=0.3,\n",
    "                     color=\"r\")\n",
    "    plt.fill_between(train_sizes, test_scores_mean - test_scores_std,\n",
    "                     test_scores_mean + test_scores_std, alpha=0.1, color=\"g\")\n",
    "    plt.plot(train_sizes, train_scores_mean, 'o-', color=\"r\",\n",
    "             label=\"Training score\")\n",
    "    plt.plot(train_sizes, test_scores_mean, 'o-', color=\"g\",\n",
    "             label=\"Cross-validation score\")\n",
    "\n",
    "    plt.legend(loc=\"best\")\n",
    "    return plt\n",
    "\n",
    "plot_learning_curve(KNeighborsClassifier(n_neighbors=5), 'n_neighbors=5', \n",
    "                    data_train, data_target, cv=kf)"
   ]
  },
  {
   "cell_type": "code",
   "execution_count": null,
   "id": "aa7841db",
   "metadata": {},
   "outputs": [],
   "source": []
  },
  {
   "cell_type": "code",
   "execution_count": null,
   "id": "faafab6c",
   "metadata": {},
   "outputs": [],
   "source": []
  },
  {
   "cell_type": "markdown",
   "id": "ebdc4657",
   "metadata": {},
   "source": [
    "# Метрики качества классификации"
   ]
  },
  {
   "cell_type": "markdown",
   "id": "39d23166",
   "metadata": {},
   "source": [
    "## Матрица ошибок или Confusion Matrix"
   ]
  },
  {
   "cell_type": "code",
   "execution_count": 96,
   "id": "5b3f81a4",
   "metadata": {},
   "outputs": [],
   "source": [
    "target_predict = grid_search.predict(data_train)"
   ]
  },
  {
   "cell_type": "code",
   "execution_count": 101,
   "id": "7a5f8ba9",
   "metadata": {},
   "outputs": [],
   "source": [
    "cm = confusion_matrix(data_target, target_predict)"
   ]
  },
  {
   "cell_type": "code",
   "execution_count": 102,
   "id": "80390b2c",
   "metadata": {},
   "outputs": [
    {
     "data": {
      "text/plain": [
       "array([[348,   9],\n",
       "       [ 97, 115]])"
      ]
     },
     "execution_count": 102,
     "metadata": {},
     "output_type": "execute_result"
    }
   ],
   "source": [
    "cm"
   ]
  },
  {
   "cell_type": "code",
   "execution_count": 104,
   "id": "e48b4447",
   "metadata": {},
   "outputs": [
    {
     "data": {
      "text/plain": [
       "<sklearn.metrics._plot.confusion_matrix.ConfusionMatrixDisplay at 0x7f6b7cb16670>"
      ]
     },
     "execution_count": 104,
     "metadata": {},
     "output_type": "execute_result"
    },
    {
     "data": {
      "image/png": "[encoded data removed]",
      "text/plain": [
       "<Figure size 432x288 with 2 Axes>"
      ]
     },
     "metadata": {
      "needs_background": "light"
     },
     "output_type": "display_data"
    }
   ],
   "source": [
    "ConfusionMatrixDisplay(cm, display_labels=['M', 'B']).plot(cmap=\"Blues\")"
   ]
  },
  {
   "cell_type": "code",
   "execution_count": 107,
   "id": "d6337282",
   "metadata": {},
   "outputs": [],
   "source": [
    "target1_1 = cl1_1.predict(data_train)"
   ]
  },
  {
   "cell_type": "code",
   "execution_count": 108,
   "id": "5889ffa8",
   "metadata": {},
   "outputs": [],
   "source": [
    "cm = confusion_matrix(data_target, target1_1)"
   ]
  },
  {
   "cell_type": "code",
   "execution_count": 109,
   "id": "d3e48f56",
   "metadata": {},
   "outputs": [
    {
     "data": {
      "text/plain": [
       "array([[342,  15],\n",
       "       [144,  68]])"
      ]
     },
     "execution_count": 109,
     "metadata": {},
     "output_type": "execute_result"
    }
   ],
   "source": [
    "cm"
   ]
  },
  {
   "cell_type": "code",
   "execution_count": 110,
   "id": "2f0bba60",
   "metadata": {},
   "outputs": [
    {
     "data": {
      "text/plain": [
       "<sklearn.metrics._plot.confusion_matrix.ConfusionMatrixDisplay at 0x7f6b7ca7a7f0>"
      ]
     },
     "execution_count": 110,
     "metadata": {},
     "output_type": "execute_result"
    },
    {
     "data": {
      "image/png": "[encoded data removed]",
      "text/plain": [
       "<Figure size 432x288 with 2 Axes>"
      ]
     },
     "metadata": {
      "needs_background": "light"
     },
     "output_type": "display_data"
    }
   ],
   "source": [
    "ConfusionMatrixDisplay(cm, display_labels=['M', 'B']).plot(cmap=\"Blues\")"
   ]
  },
  {
   "cell_type": "markdown",
   "id": "e1ec4b44",
   "metadata": {},
   "source": [
    "#  Вывод: \n",
    "Посмотрев на две матрицы, можно сделать вывод,что оптимальная можель намного лучше"
   ]
  }
 ],
 "metadata": {
  "kernelspec": {
   "display_name": "Python 3 (ipykernel)",
   "language": "python",
   "name": "python3"
  },
  "language_info": {
   "codemirror_mode": {
    "name": "ipython",
    "version": 3
   },
   "file_extension": ".py",
   "mimetype": "text/x-python",
   "name": "python",
   "nbconvert_exporter": "python",
   "pygments_lexer": "ipython3",
   "version": "3.9.7"
  }
 },
 "nbformat": 4,
 "nbformat_minor": 5
}
