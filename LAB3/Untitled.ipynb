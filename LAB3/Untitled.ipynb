{
 "cells": [
  {
   "cell_type": "markdown",
   "id": "178cafd1",
   "metadata": {},
   "source": [
    "# Лабораторная работа\n",
    "## Подготовка обучающей и тестовой выборки, кросс-валидация и подбор /гиперпараметров на примере метода ближайших соседей.\n",
    "\n",
    "\n",
    "## Цель лабораторной работы: изучение способов подготовки выборки и подбора гиперпараметров на примере метода ближайших соседей.\n",
    "\n",
    "Требования к отчету:\n",
    "Отчет по лабораторной работе должен содержать:\n",
    "\n",
    "* титульный лист;\n",
    "* описание задания;\n",
    "* текст программы;\n",
    "* экранные формы с примерами выполнения программы.\n",
    "## Задание:\n",
    "Выберите набор данных (датасет) для решения задачи классификации или регрессии.\n",
    "В случае необходимости проведите удаление или заполнение пропусков и кодирование категориальных признаков.\n",
    "С использованием метода train_test_split разделите выборку на обучающую и тестовую.\n",
    "Обучите модель ближайших соседей для произвольно заданного гиперпараметра K. Оцените качество модели с помощью подходящих для задачи метрик.\n",
    "Произведите подбор гиперпараметра K с использованием GridSearchCV и RandomizedSearchCV и кросс-валидации, оцените качество оптимальной модели. Используйте не менее двух стратегий кросс-валидации.\n",
    "Сравните метрики качества исходной и оптимальной моделей."
   ]
  },
  {
   "cell_type": "code",
   "execution_count": 1,
   "id": "18a97452",
   "metadata": {},
   "outputs": [],
   "source": [
    "import numpy as np\n",
    "import pandas as pd\n",
    "import seaborn as sns\n",
    "import matplotlib.ticker as ticker\n",
    "from sklearn.preprocessing import OrdinalEncoder\n",
    "from sklearn.preprocessing import OneHotEncoder\n",
    "import category_encoders as ce\n",
    "import matplotlib.pyplot as plt\n",
    "import matplotlib\n",
    "%matplotlib inline \n",
    "# sns.set(style=\"ticks\")"
   ]
  }
 ],
 "metadata": {
  "kernelspec": {
   "display_name": "Python 3 (ipykernel)",
   "language": "python",
   "name": "python3"
  },
  "language_info": {
   "codemirror_mode": {
    "name": "ipython",
    "version": 3
   },
   "file_extension": ".py",
   "mimetype": "text/x-python",
   "name": "python",
   "nbconvert_exporter": "python",
   "pygments_lexer": "ipython3",
   "version": "3.9.7"
  }
 },
 "nbformat": 4,
 "nbformat_minor": 5
}
