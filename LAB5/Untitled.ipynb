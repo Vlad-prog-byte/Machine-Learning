{
 "cells": [
  {
   "cell_type": "markdown",
   "id": "d9a1e92b",
   "metadata": {},
   "source": [
    "# Ансамбли моделей машинного обучения\n",
    "# Цель лабораторной работы: изучение ансамблей моделей машинного обучения.\n",
    "\n",
    "# Задание\n",
    "Выберите набор данных (датасет) для решения задачи классификации или регресии.\n",
    "\n",
    "В случае необходимости проведите удаление или заполнение пропусков и кодирование категориальных признаков.\n",
    "\n",
    "С использованием метода train_test_split разделите выборку на обучающую и тестовую.\n",
    "\n",
    "Обучите следующие ансамблевые модели:\n",
    "\n",
    "    одну из моделей группы бэггинга (бэггинг или случайный лес или сверхслучайные деревья);\n",
    "\n",
    "    одну из моделей группы бустинга;\n",
    "\n",
    "    одну из моделей группы стекинга.\n",
    "\n",
    "(+1 балл на экзамене) Дополнительно к указанным моделям обучите еще две модели:\n",
    "Модель многослойного персептрона.\n",
    "По желанию, вместо библиотеки scikit-learn возможно использование библиотек TensorFlow, PyTorch\n",
    "или других аналогичных библиотек.\n",
    "Модель МГУА с использованием библиотеки - https://github.com/kvoyager/GmdhPy (или аналогичных библиотек). \n",
    "Найдите такие параметры запуска модели, при которых она будет по крайней мере не хуже, \n",
    "чем одна из предыдущих ансамблевых моделей.\n",
    "\n",
    "Оцените качество моделей с помощью одной из подходящих для задачи метрик. Сравните качество полученных моделей."
   ]
  },
  {
   "cell_type": "code",
   "execution_count": 8,
   "id": "8ef43635",
   "metadata": {},
   "outputs": [],
   "source": [
    "import pandas as pd\n",
    "import numpy as np\n",
    "import seaborn as sns\n",
    "import matplotlib.pyplot as plt\n",
    "from sklearn.datasets import *\n",
    "from sklearn.preprocessing import MinMaxScaler\n",
    "from sklearn.model_selection import train_test_split\n",
    "from sklearn.linear_model import LogisticRegression\n",
    "from sklearn import svm, tree\n",
    "from sklearn.tree import DecisionTreeClassifier\n",
    "from sklearn.ensemble import BaggingClassifier\n",
    "from sklearn.ensemble import GradientBoostingClassifier\n",
    "from sklearn.ensemble import StackingClassifier\n",
    "from sklearn.neural_network import MLPClassifier\n",
    "from sklearn.metrics import accuracy_score\n",
    "from sklearn.metrics import confusion_matrix, ConfusionMatrixDisplay\n",
    "from operator import itemgetter\n",
    "\n",
    "\n",
    "def make_dataframe(ds_function):\n",
    "    ds = ds_function()\n",
    "    df = pd.DataFrame(data= np.c_[ds['data'], ds['target']],\n",
    "                     columns= list(ds['feature_names']) + ['target'])\n",
    "    return df\n",
    "\n",
    "wine = load_wine()\n",
    "\n",
    "df = make_dataframe(load_wine)"
   ]
  },
  {
   "cell_type": "code",
   "execution_count": 8,
   "id": "2339dff0",
   "metadata": {},
   "outputs": [
    {
     "name": "stdout",
     "output_type": "stream",
     "text": [
      "<class 'pandas.core.frame.DataFrame'>\n",
      "RangeIndex: 178 entries, 0 to 177\n",
      "Data columns (total 14 columns):\n",
      " #   Column                        Non-Null Count  Dtype  \n",
      "---  ------                        --------------  -----  \n",
      " 0   alcohol                       178 non-null    float64\n",
      " 1   malic_acid                    178 non-null    float64\n",
      " 2   ash                           178 non-null    float64\n",
      " 3   alcalinity_of_ash             178 non-null    float64\n",
      " 4   magnesium                     178 non-null    float64\n",
      " 5   total_phenols                 178 non-null    float64\n",
      " 6   flavanoids                    178 non-null    float64\n",
      " 7   nonflavanoid_phenols          178 non-null    float64\n",
      " 8   proanthocyanins               178 non-null    float64\n",
      " 9   color_intensity               178 non-null    float64\n",
      " 10  hue                           178 non-null    float64\n",
      " 11  od280/od315_of_diluted_wines  178 non-null    float64\n",
      " 12  proline                       178 non-null    float64\n",
      " 13  target                        178 non-null    float64\n",
      "dtypes: float64(14)\n",
      "memory usage: 19.6 KB\n"
     ]
    }
   ],
   "source": [
    "df.info()"
   ]
  },
  {
   "cell_type": "code",
   "execution_count": 6,
   "id": "59dc4638",
   "metadata": {},
   "outputs": [
    {
     "name": "stdout",
     "output_type": "stream",
     "text": [
      "alcohol имеет NAN: 0\n",
      "malic_acid имеет NAN: 0\n",
      "ash имеет NAN: 0\n",
      "alcalinity_of_ash имеет NAN: 0\n",
      "magnesium имеет NAN: 0\n",
      "total_phenols имеет NAN: 0\n",
      "flavanoids имеет NAN: 0\n",
      "nonflavanoid_phenols имеет NAN: 0\n",
      "proanthocyanins имеет NAN: 0\n",
      "color_intensity имеет NAN: 0\n",
      "hue имеет NAN: 0\n",
      "od280/od315_of_diluted_wines имеет NAN: 0\n",
      "proline имеет NAN: 0\n",
      "target имеет NAN: 0\n"
     ]
    }
   ],
   "source": [
    "def count_nan(data):\n",
    "    for col in data.columns:\n",
    "        count_nan = data[data[col].isnull()].shape[0]\n",
    "        print('{} имеет NAN: {}'.format(col, count_nan))\n",
    "count_nan(df)"
   ]
  },
  {
   "cell_type": "markdown",
   "id": "87310fe2",
   "metadata": {},
   "source": [
    "# Разделение на тестовую и обучающую выборки"
   ]
  },
  {
   "cell_type": "code",
   "execution_count": 10,
   "id": "d7445790",
   "metadata": {},
   "outputs": [],
   "source": [
    "y = df['target']\n",
    "x = df.drop('target', axis = 1)\n",
    "\n",
    "scaler = MinMaxScaler()\n",
    "scaled_data = scaler.fit_transform(x)\n",
    "\n",
    "x_train, x_test, y_train, y_test = train_test_split(scaled_data, y, test_size = 0.3, random_state = 1)"
   ]
  },
  {
   "cell_type": "markdown",
   "id": "936c9e15",
   "metadata": {},
   "source": [
    "## Про ансамбли\n",
    "https://habr.com/ru/articles/561732/\n",
    "\n",
    "https://academy.yandex.ru/handbook/ml/article/ansambli-v-mashinnom-obuchenii"
   ]
  },
  {
   "cell_type": "markdown",
   "id": "d83fbd37",
   "metadata": {},
   "source": [
    "# Бэггинг"
   ]
  },
  {
   "cell_type": "code",
   "execution_count": 17,
   "id": "5e51b956",
   "metadata": {},
   "outputs": [
    {
     "name": "stderr",
     "output_type": "stream",
     "text": [
      "/home/vlad/anaconda3/lib/python3.9/site-packages/sklearn/ensemble/_bagging.py:640: UserWarning: Some inputs do not have OOB scores. This probably means too few estimators were used to compute any reliable oob estimates.\n",
      "  warn(\"Some inputs do not have OOB scores. \"\n",
      "/home/vlad/anaconda3/lib/python3.9/site-packages/sklearn/ensemble/_bagging.py:644: RuntimeWarning: invalid value encountered in true_divide\n",
      "  oob_decision_function = (predictions /\n"
     ]
    }
   ],
   "source": [
    "bc = BaggingClassifier(n_estimators=8, oob_score=True, random_state=10)\n",
    "bc_model = bc.fit(x_train, y_train)\n",
    "bc_predict = bc_model.predict(x_test)"
   ]
  },
  {
   "cell_type": "markdown",
   "id": "9f905760",
   "metadata": {},
   "source": [
    "# Градиентный бустинг"
   ]
  },
  {
   "cell_type": "code",
   "execution_count": 18,
   "id": "024333cd",
   "metadata": {},
   "outputs": [],
   "source": [
    "gb = GradientBoostingClassifier(random_state=0)\n",
    "gb_model = gb.fit(x_train, y_train)\n",
    "gb_predict = gb_model.predict(x_test)"
   ]
  },
  {
   "cell_type": "markdown",
   "id": "544bbf2e",
   "metadata": {},
   "source": [
    "# Стекинг"
   ]
  },
  {
   "cell_type": "code",
   "execution_count": 22,
   "id": "424064d3",
   "metadata": {},
   "outputs": [],
   "source": [
    "# Качество отдельных моделей\n",
    "def val_mae(model):\n",
    "    st_prediction = model.fit(x_train, y_train).predict(x_test)\n",
    "    print(model)\n",
    "    print('Accuracy score={}'.format(accuracy_score(y_test, st_prediction)))"
   ]
  },
  {
   "cell_type": "code",
   "execution_count": 23,
   "id": "bc01b3b5",
   "metadata": {},
   "outputs": [
    {
     "name": "stdout",
     "output_type": "stream",
     "text": [
      "LogisticRegression(random_state=1)\n",
      "Accuracy score=0.9814814814814815\n",
      "==========================\n",
      "\n",
      "SVC(random_state=1)\n",
      "Accuracy score=0.9814814814814815\n",
      "==========================\n",
      "\n",
      "DecisionTreeClassifier(random_state=1)\n",
      "Accuracy score=0.9444444444444444\n",
      "==========================\n",
      "\n"
     ]
    }
   ],
   "source": [
    "# Точность на отдельных моделях\n",
    "for model in [\n",
    "    LogisticRegression(random_state=1),\n",
    "    svm.SVC(random_state=1),\n",
    "    DecisionTreeClassifier(random_state=1)\n",
    "]:\n",
    "    val_mae(model)\n",
    "    print('==========================')\n",
    "    print()"
   ]
  },
  {
   "cell_type": "code",
   "execution_count": 32,
   "id": "7db1a2db",
   "metadata": {},
   "outputs": [],
   "source": [
    "estimators = [\n",
    "    ('lg', LogisticRegression(random_state=0)),\n",
    "    ('svc', svm.SVC(random_state=0))\n",
    "]\n",
    "LogisticRegression\n",
    "sc_class = StackingClassifier(\n",
    "    estimators=estimators, final_estimator=DecisionTreeClassifier()\n",
    ")\n",
    "sc_model = sc_class.fit(x_train, y_train)\n",
    "sc_predict = sc_model.predict(x_test)"
   ]
  },
  {
   "cell_type": "markdown",
   "id": "f3a44138",
   "metadata": {},
   "source": [
    "##  Модель МГУА (метод группового учёта аргументов)\n"
   ]
  },
  {
   "cell_type": "code",
   "execution_count": 47,
   "id": "5b072c73",
   "metadata": {},
   "outputs": [
    {
     "ename": "NameError",
     "evalue": "name 'Classifier' is not defined",
     "output_type": "error",
     "traceback": [
      "\u001b[0;31m---------------------------------------------------------------------------\u001b[0m",
      "\u001b[0;31mNameError\u001b[0m                                 Traceback (most recent call last)",
      "\u001b[0;32m/tmp/ipykernel_43159/1357388246.py\u001b[0m in \u001b[0;36m<module>\u001b[0;34m\u001b[0m\n\u001b[0;32m----> 1\u001b[0;31m \u001b[0mmgua\u001b[0m \u001b[0;34m=\u001b[0m \u001b[0mClassifier\u001b[0m\u001b[0;34m(\u001b[0m\u001b[0;34m)\u001b[0m\u001b[0;34m\u001b[0m\u001b[0;34m\u001b[0m\u001b[0m\n\u001b[0m\u001b[1;32m      2\u001b[0m \u001b[0mmgua_prediction\u001b[0m \u001b[0;34m=\u001b[0m \u001b[0mmgua\u001b[0m\u001b[0;34m.\u001b[0m\u001b[0mfit\u001b[0m\u001b[0;34m(\u001b[0m\u001b[0mx_train\u001b[0m\u001b[0;34m,\u001b[0m \u001b[0my_train\u001b[0m\u001b[0;34m)\u001b[0m\u001b[0;34m.\u001b[0m\u001b[0mpredict\u001b[0m\u001b[0;34m(\u001b[0m\u001b[0mx_test\u001b[0m\u001b[0;34m)\u001b[0m\u001b[0;34m\u001b[0m\u001b[0;34m\u001b[0m\u001b[0m\n\u001b[1;32m      3\u001b[0m \u001b[0maccuracy_score\u001b[0m\u001b[0;34m(\u001b[0m\u001b[0my_test\u001b[0m\u001b[0;34m,\u001b[0m \u001b[0mmgua_prediction\u001b[0m\u001b[0;34m)\u001b[0m\u001b[0;34m\u001b[0m\u001b[0;34m\u001b[0m\u001b[0m\n",
      "\u001b[0;31mNameError\u001b[0m: name 'Classifier' is not defined"
     ]
    }
   ],
   "source": [
    "mgua = Classifier()\n",
    "mgua_prediction = mgua.fit(x_train, y_train).predict(x_test)\n",
    "accuracy_score(y_test, mgua_prediction)"
   ]
  },
  {
   "cell_type": "markdown",
   "id": "520b987d",
   "metadata": {},
   "source": [
    "# Оценка качества решений"
   ]
  },
  {
   "cell_type": "code",
   "execution_count": 33,
   "id": "7b22962c",
   "metadata": {},
   "outputs": [
    {
     "name": "stdout",
     "output_type": "stream",
     "text": [
      "Бэггинг:  0.9629629629629629\n",
      "Градиентный бустинг:  0.9629629629629629\n",
      "Стекинг (дерево и метод опорных векторов + логистическая регрессия):  0.9814814814814815\n"
     ]
    }
   ],
   "source": [
    "print(\"Бэггинг: \", accuracy_score(y_test, bc_predict))\n",
    "print(\"Градиентный бустинг: \", accuracy_score(y_test, gb_predict))\n",
    "print(\"Стекинг (дерево и метод опорных векторов + логистическая регрессия): \", accuracy_score(y_test, sc_predict))"
   ]
  },
  {
   "cell_type": "code",
   "execution_count": 36,
   "id": "d1f0e226",
   "metadata": {},
   "outputs": [
    {
     "name": "stdout",
     "output_type": "stream",
     "text": [
      "Бэггинг\n"
     ]
    },
    {
     "data": {
      "text/plain": [
       "<sklearn.metrics._plot.confusion_matrix.ConfusionMatrixDisplay at 0x7f3951eff580>"
      ]
     },
     "execution_count": 36,
     "metadata": {},
     "output_type": "execute_result"
    },
    {
     "data": {
      "image/png": "[encoded data removed]",
      "text/plain": [
       "<Figure size 432x288 with 2 Axes>"
      ]
     },
     "metadata": {
      "needs_background": "light"
     },
     "output_type": "display_data"
    }
   ],
   "source": [
    "print(\"Бэггинг\")\n",
    "\n",
    "cm = confusion_matrix(y_test, bc_predict, labels=np.unique(df.target), normalize='true')\n",
    "disp = ConfusionMatrixDisplay(confusion_matrix=cm, display_labels=np.unique(df.target))\n",
    "disp.plot()"
   ]
  },
  {
   "cell_type": "code",
   "execution_count": 39,
   "id": "0481a890",
   "metadata": {},
   "outputs": [
    {
     "name": "stdout",
     "output_type": "stream",
     "text": [
      "Градиентный бустинг\n"
     ]
    },
    {
     "data": {
      "text/plain": [
       "<sklearn.metrics._plot.confusion_matrix.ConfusionMatrixDisplay at 0x7f3950fa4bb0>"
      ]
     },
     "execution_count": 39,
     "metadata": {},
     "output_type": "execute_result"
    },
    {
     "data": {
      "image/png": "[encoded data removed]",
      "text/plain": [
       "<Figure size 432x288 with 2 Axes>"
      ]
     },
     "metadata": {
      "needs_background": "light"
     },
     "output_type": "display_data"
    }
   ],
   "source": [
    "print(\"Градиентный бустинг\")\n",
    "\n",
    "cm = confusion_matrix(y_test, gb_predict, labels=np.unique(df.target), normalize='true')\n",
    "disp = ConfusionMatrixDisplay(confusion_matrix=cm, display_labels=np.unique(df.target))\n",
    "disp.plot()"
   ]
  },
  {
   "cell_type": "code",
   "execution_count": 40,
   "id": "3b184838",
   "metadata": {},
   "outputs": [
    {
     "name": "stdout",
     "output_type": "stream",
     "text": [
      "Стекинг (логистическая регрессия дерево и метод опорных векторов + дерево)\n"
     ]
    },
    {
     "data": {
      "text/plain": [
       "<sklearn.metrics._plot.confusion_matrix.ConfusionMatrixDisplay at 0x7f3950ec5820>"
      ]
     },
     "execution_count": 40,
     "metadata": {},
     "output_type": "execute_result"
    },
    {
     "data": {
      "image/png": "[encoded data removed]",
      "text/plain": [
       "<Figure size 432x288 with 2 Axes>"
      ]
     },
     "metadata": {
      "needs_background": "light"
     },
     "output_type": "display_data"
    }
   ],
   "source": [
    "print(\"Стекинг (логистическая регрессия дерево и метод опорных векторов + дерево)\")\n",
    "\n",
    "cm = confusion_matrix(y_test, sc_predict, labels=np.unique(df.target), normalize='true')\n",
    "disp = ConfusionMatrixDisplay(confusion_matrix=cm, display_labels=np.unique(df.target))\n",
    "disp.plot()"
   ]
  }
 ],
 "metadata": {
  "kernelspec": {
   "display_name": "Python 3 (ipykernel)",
   "language": "python",
   "name": "python3"
  },
  "language_info": {
   "codemirror_mode": {
    "name": "ipython",
    "version": 3
   },
   "file_extension": ".py",
   "mimetype": "text/x-python",
   "name": "python",
   "nbconvert_exporter": "python",
   "pygments_lexer": "ipython3",
   "version": "3.9.7"
  }
 },
 "nbformat": 4,
 "nbformat_minor": 5
}
